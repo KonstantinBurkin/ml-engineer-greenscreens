{
 "cells": [
  {
   "cell_type": "markdown",
   "metadata": {},
   "source": [
    "### imports"
   ]
  },
  {
   "cell_type": "code",
   "execution_count": 22,
   "metadata": {},
   "outputs": [],
   "source": [
    "import polars as pl\n",
    "from polars import col as c\n",
    "import os\n",
    "import matplotlib.pyplot as plt\n",
    "import numpy as np\n",
    "from datetime import datetime\n",
    "from numpy.typing import ArrayLike, NDArray"
   ]
  },
  {
   "cell_type": "markdown",
   "metadata": {},
   "source": [
    "### constants"
   ]
  },
  {
   "cell_type": "code",
   "execution_count": 2,
   "metadata": {},
   "outputs": [],
   "source": [
    "DATA_DIR = \"dataset\""
   ]
  },
  {
   "cell_type": "markdown",
   "metadata": {},
   "source": [
    "### functions"
   ]
  },
  {
   "cell_type": "code",
   "execution_count": 23,
   "metadata": {},
   "outputs": [],
   "source": [
    "def mape_f(y_true: ArrayLike, y_pred: ArrayLike) -> np.floating:\n",
    "    y_true, y_pred = np.array(y_true), np.array(y_pred)\n",
    "    metric = np.mean(np.abs((y_true - y_pred) / y_true)) * 100\n",
    "    return round(metric, 2)"
   ]
  },
  {
   "cell_type": "markdown",
   "metadata": {},
   "source": [
    "### data"
   ]
  },
  {
   "cell_type": "code",
   "execution_count": 3,
   "metadata": {},
   "outputs": [
    {
     "data": {
      "text/html": [
       "<div><style>\n",
       ".dataframe > thead > tr,\n",
       ".dataframe > tbody > tr {\n",
       "  text-align: right;\n",
       "  white-space: pre-wrap;\n",
       "}\n",
       "</style>\n",
       "<small>shape: (1, 7)</small><table border=\"1\" class=\"dataframe\"><thead><tr><th>rate</th><th>valid_miles</th><th>transport_type</th><th>weight</th><th>pickup_date</th><th>origin_kma</th><th>destination_kma</th></tr><tr><td>f64</td><td>f64</td><td>str</td><td>f64</td><td>datetime[μs]</td><td>str</td><td>str</td></tr></thead><tbody><tr><td>7.8835</td><td>143.4082</td><td>&quot;MKPFX&quot;</td><td>39480.7</td><td>2020-02-02 10:42:00</td><td>&quot;DNDBK&quot;</td><td>&quot;VJBFX&quot;</td></tr></tbody></table></div>"
      ],
      "text/plain": [
       "shape: (1, 7)\n",
       "┌────────┬─────────────┬────────────────┬─────────┬──────────────┬────────────┬─────────────────┐\n",
       "│ rate   ┆ valid_miles ┆ transport_type ┆ weight  ┆ pickup_date  ┆ origin_kma ┆ destination_kma │\n",
       "│ ---    ┆ ---         ┆ ---            ┆ ---     ┆ ---          ┆ ---        ┆ ---             │\n",
       "│ f64    ┆ f64         ┆ str            ┆ f64     ┆ datetime[μs] ┆ str        ┆ str             │\n",
       "╞════════╪═════════════╪════════════════╪═════════╪══════════════╪════════════╪═════════════════╡\n",
       "│ 7.8835 ┆ 143.4082    ┆ MKPFX          ┆ 39480.7 ┆ 2020-02-02   ┆ DNDBK      ┆ VJBFX           │\n",
       "│        ┆             ┆                ┆         ┆ 10:42:00     ┆            ┆                 │\n",
       "└────────┴─────────────┴────────────────┴─────────┴──────────────┴────────────┴─────────────────┘"
      ]
     },
     "execution_count": 3,
     "metadata": {},
     "output_type": "execute_result"
    }
   ],
   "source": [
    "path = os.path.join(\"../\", DATA_DIR, \"train.csv\")\n",
    "train = pl.read_csv(path).with_columns(\n",
    "    c(\"pickup_date\").str.to_datetime(\"%Y-%m-%d %H:%M:%S\")\n",
    ")\n",
    "path = os.path.join(\"../\", DATA_DIR, \"validation.csv\")\n",
    "validation = pl.read_csv(path).with_columns(\n",
    "    c(\"pickup_date\").str.to_datetime(\"%Y-%m-%d %H:%M:%S\")\n",
    ")\n",
    "train.sample()"
   ]
  },
  {
   "cell_type": "code",
   "execution_count": 28,
   "metadata": {},
   "outputs": [
    {
     "data": {
      "text/plain": [
       "datetime.date(2022, 9, 5)"
      ]
     },
     "execution_count": 28,
     "metadata": {},
     "output_type": "execute_result"
    }
   ],
   "source": [
    "train[\"pickup_date\"].dt.date().max()"
   ]
  },
  {
   "cell_type": "markdown",
   "metadata": {},
   "source": [
    "### mean / median baseline"
   ]
  },
  {
   "cell_type": "code",
   "execution_count": 15,
   "metadata": {},
   "outputs": [],
   "source": [
    "median_value = round(train[\"rate\"].median(), 3)\n",
    "mean_value = round(train[\"rate\"].mean(), 3)"
   ]
  },
  {
   "cell_type": "code",
   "execution_count": 16,
   "metadata": {},
   "outputs": [],
   "source": [
    "recent_median_value = round(\n",
    "    train.filter(\n",
    "        c(\"pickup_date\") > datetime.strptime(\"2022-01-01\", \"%Y-%m-%d\"),\n",
    "    )[\"rate\"].median(),\n",
    "    3,\n",
    ")\n",
    "recent_mean_value = round(\n",
    "    train.filter(\n",
    "        c(\"pickup_date\") > datetime.strptime(\"2022-01-01\", \"%Y-%m-%d\"),\n",
    "    )[\"rate\"].mean(),\n",
    "    3,\n",
    ")"
   ]
  },
  {
   "cell_type": "code",
   "execution_count": 17,
   "metadata": {},
   "outputs": [
    {
     "name": "stdout",
     "output_type": "stream",
     "text": [
      "median:\t 4.574 4.416\n",
      "mean:\t 5.222 5.029\n"
     ]
    }
   ],
   "source": [
    "print(\"median:\\t\", median_value, recent_median_value)\n",
    "print(\"mean:\\t\", mean_value, recent_mean_value)"
   ]
  },
  {
   "cell_type": "code",
   "execution_count": 20,
   "metadata": {},
   "outputs": [],
   "source": [
    "baseline = validation.with_columns(\n",
    "    pl.lit(median_value).cast(pl.Float64).alias(\"median_value\"),\n",
    "    pl.lit(mean_value).cast(pl.Float64).alias(\"mean_value\"),\n",
    "    pl.lit(recent_median_value).cast(pl.Float64).alias(\"recent_median_value\"),\n",
    "    pl.lit(recent_mean_value).cast(pl.Float64).alias(\"recent_mean_value\"),\n",
    ")"
   ]
  },
  {
   "cell_type": "code",
   "execution_count": 27,
   "metadata": {},
   "outputs": [
    {
     "name": "stdout",
     "output_type": "stream",
     "text": [
      "median_value:\t\t 31.74\n",
      "mean_value:\t\t 34.85\n",
      "recent_median_value:\t 31.57\n",
      "recent_mean_value:\t 33.54\n"
     ]
    }
   ],
   "source": [
    "print(\"median_value:\\t\\t\", mape_f(baseline[\"rate\"], baseline[\"median_value\"]))\n",
    "print(\"mean_value:\\t\\t\", mape_f(baseline[\"rate\"], baseline[\"mean_value\"]))\n",
    "print(\n",
    "    \"recent_median_value:\\t\", mape_f(baseline[\"rate\"], baseline[\"recent_median_value\"])\n",
    ")\n",
    "print(\"recent_mean_value:\\t\", mape_f(baseline[\"rate\"], baseline[\"recent_mean_value\"]))"
   ]
  }
 ],
 "metadata": {
  "kernelspec": {
   "display_name": ".venv",
   "language": "python",
   "name": "python3"
  },
  "language_info": {
   "codemirror_mode": {
    "name": "ipython",
    "version": 3
   },
   "file_extension": ".py",
   "mimetype": "text/x-python",
   "name": "python",
   "nbconvert_exporter": "python",
   "pygments_lexer": "ipython3",
   "version": "3.12.7"
  }
 },
 "nbformat": 4,
 "nbformat_minor": 2
}
