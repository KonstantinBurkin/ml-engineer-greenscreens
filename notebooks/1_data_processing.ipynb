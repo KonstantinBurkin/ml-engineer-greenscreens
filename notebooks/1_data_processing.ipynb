{
 "cells": [
  {
   "cell_type": "markdown",
   "metadata": {},
   "source": [
    "### imports"
   ]
  },
  {
   "cell_type": "code",
   "execution_count": 1,
   "metadata": {},
   "outputs": [],
   "source": [
    "import polars as pl\n",
    "\n",
    "pl.Config.set_tbl_rows(20)\n",
    "pl.Config.set_fmt_str_lengths(100)\n",
    "\n",
    "from polars import col as c\n",
    "import os\n",
    "import matplotlib.pyplot as plt\n",
    "import numpy as np\n",
    "import holidays\n",
    "from datetime import datetime, timedelta\n",
    "from numpy.typing import ArrayLike, NDArray"
   ]
  },
  {
   "cell_type": "markdown",
   "metadata": {},
   "source": [
    "### constants"
   ]
  },
  {
   "cell_type": "code",
   "execution_count": 2,
   "metadata": {},
   "outputs": [],
   "source": [
    "DATA_DIR = \"dataset\"\n",
    "US_HOLIDAYS = holidays.US()  # this is a dict-like object"
   ]
  },
  {
   "cell_type": "markdown",
   "metadata": {},
   "source": [
    "### functions"
   ]
  },
  {
   "cell_type": "code",
   "execution_count": 3,
   "metadata": {},
   "outputs": [],
   "source": [
    "def mape_f(y_true: ArrayLike, y_pred: ArrayLike) -> np.floating:\n",
    "    y_true, y_pred = np.array(y_true), np.array(y_pred)\n",
    "    metric = np.mean(np.abs((y_true - y_pred) / y_true)) * 100\n",
    "    return round(metric, 2)"
   ]
  },
  {
   "cell_type": "markdown",
   "metadata": {},
   "source": [
    "### data"
   ]
  },
  {
   "cell_type": "code",
   "execution_count": 4,
   "metadata": {},
   "outputs": [
    {
     "data": {
      "text/html": [
       "<div><style>\n",
       ".dataframe > thead > tr,\n",
       ".dataframe > tbody > tr {\n",
       "  text-align: right;\n",
       "  white-space: pre-wrap;\n",
       "}\n",
       "</style>\n",
       "<small>shape: (1, 7)</small><table border=\"1\" class=\"dataframe\"><thead><tr><th>rate</th><th>valid_miles</th><th>transport_type</th><th>weight</th><th>pickup_date</th><th>origin_kma</th><th>destination_kma</th></tr><tr><td>f64</td><td>f64</td><td>str</td><td>f64</td><td>datetime[μs]</td><td>str</td><td>str</td></tr></thead><tbody><tr><td>3.1834</td><td>409.536</td><td>&quot;MKPFX&quot;</td><td>19430.0</td><td>2021-11-17 16:12:00</td><td>&quot;OKPES&quot;</td><td>&quot;NTODX&quot;</td></tr></tbody></table></div>"
      ],
      "text/plain": [
       "shape: (1, 7)\n",
       "┌────────┬─────────────┬────────────────┬─────────┬──────────────┬────────────┬─────────────────┐\n",
       "│ rate   ┆ valid_miles ┆ transport_type ┆ weight  ┆ pickup_date  ┆ origin_kma ┆ destination_kma │\n",
       "│ ---    ┆ ---         ┆ ---            ┆ ---     ┆ ---          ┆ ---        ┆ ---             │\n",
       "│ f64    ┆ f64         ┆ str            ┆ f64     ┆ datetime[μs] ┆ str        ┆ str             │\n",
       "╞════════╪═════════════╪════════════════╪═════════╪══════════════╪════════════╪═════════════════╡\n",
       "│ 3.1834 ┆ 409.536     ┆ MKPFX          ┆ 19430.0 ┆ 2021-11-17   ┆ OKPES      ┆ NTODX           │\n",
       "│        ┆             ┆                ┆         ┆ 16:12:00     ┆            ┆                 │\n",
       "└────────┴─────────────┴────────────────┴─────────┴──────────────┴────────────┴─────────────────┘"
      ]
     },
     "execution_count": 4,
     "metadata": {},
     "output_type": "execute_result"
    }
   ],
   "source": [
    "path = os.path.join(\"../\", DATA_DIR, \"train.csv\")\n",
    "train = pl.read_csv(path).with_columns(\n",
    "    c(\"pickup_date\").str.to_datetime(\"%Y-%m-%d %H:%M:%S\")\n",
    ")\n",
    "path = os.path.join(\"../\", DATA_DIR, \"validation.csv\")\n",
    "validation = pl.read_csv(path).with_columns(\n",
    "    c(\"pickup_date\").str.to_datetime(\"%Y-%m-%d %H:%M:%S\")\n",
    ")\n",
    "path = os.path.join(\"../\", DATA_DIR, \"test.csv\")\n",
    "test = pl.read_csv(path).with_columns(\n",
    "    c(\"pickup_date\").str.to_datetime(\"%Y-%m-%d %H:%M:%S\")\n",
    ")\n",
    "train.sample()"
   ]
  },
  {
   "cell_type": "markdown",
   "metadata": {},
   "source": [
    "### fill null"
   ]
  },
  {
   "cell_type": "code",
   "execution_count": 5,
   "metadata": {},
   "outputs": [
    {
     "data": {
      "text/html": [
       "<div><style>\n",
       ".dataframe > thead > tr,\n",
       ".dataframe > tbody > tr {\n",
       "  text-align: right;\n",
       "  white-space: pre-wrap;\n",
       "}\n",
       "</style>\n",
       "<small>shape: (1, 7)</small><table border=\"1\" class=\"dataframe\"><thead><tr><th>rate</th><th>valid_miles</th><th>transport_type</th><th>weight</th><th>pickup_date</th><th>origin_kma</th><th>destination_kma</th></tr><tr><td>u32</td><td>u32</td><td>u32</td><td>u32</td><td>u32</td><td>u32</td><td>u32</td></tr></thead><tbody><tr><td>0</td><td>0</td><td>0</td><td>80</td><td>0</td><td>0</td><td>0</td></tr></tbody></table></div>"
      ],
      "text/plain": [
       "shape: (1, 7)\n",
       "┌──────┬─────────────┬────────────────┬────────┬─────────────┬────────────┬─────────────────┐\n",
       "│ rate ┆ valid_miles ┆ transport_type ┆ weight ┆ pickup_date ┆ origin_kma ┆ destination_kma │\n",
       "│ ---  ┆ ---         ┆ ---            ┆ ---    ┆ ---         ┆ ---        ┆ ---             │\n",
       "│ u32  ┆ u32         ┆ u32            ┆ u32    ┆ u32         ┆ u32        ┆ u32             │\n",
       "╞══════╪═════════════╪════════════════╪════════╪═════════════╪════════════╪═════════════════╡\n",
       "│ 0    ┆ 0           ┆ 0              ┆ 80     ┆ 0           ┆ 0          ┆ 0               │\n",
       "└──────┴─────────────┴────────────────┴────────┴─────────────┴────────────┴─────────────────┘"
      ]
     },
     "execution_count": 5,
     "metadata": {},
     "output_type": "execute_result"
    }
   ],
   "source": [
    "train.null_count()"
   ]
  },
  {
   "cell_type": "code",
   "execution_count": 6,
   "metadata": {},
   "outputs": [
    {
     "data": {
      "text/html": [
       "<div><style>\n",
       ".dataframe > thead > tr,\n",
       ".dataframe > tbody > tr {\n",
       "  text-align: right;\n",
       "  white-space: pre-wrap;\n",
       "}\n",
       "</style>\n",
       "<small>shape: (1, 7)</small><table border=\"1\" class=\"dataframe\"><thead><tr><th>rate</th><th>valid_miles</th><th>transport_type</th><th>weight</th><th>pickup_date</th><th>origin_kma</th><th>destination_kma</th></tr><tr><td>u32</td><td>u32</td><td>u32</td><td>u32</td><td>u32</td><td>u32</td><td>u32</td></tr></thead><tbody><tr><td>0</td><td>0</td><td>0</td><td>0</td><td>0</td><td>0</td><td>0</td></tr></tbody></table></div>"
      ],
      "text/plain": [
       "shape: (1, 7)\n",
       "┌──────┬─────────────┬────────────────┬────────┬─────────────┬────────────┬─────────────────┐\n",
       "│ rate ┆ valid_miles ┆ transport_type ┆ weight ┆ pickup_date ┆ origin_kma ┆ destination_kma │\n",
       "│ ---  ┆ ---         ┆ ---            ┆ ---    ┆ ---         ┆ ---        ┆ ---             │\n",
       "│ u32  ┆ u32         ┆ u32            ┆ u32    ┆ u32         ┆ u32        ┆ u32             │\n",
       "╞══════╪═════════════╪════════════════╪════════╪═════════════╪════════════╪═════════════════╡\n",
       "│ 0    ┆ 0           ┆ 0              ┆ 0      ┆ 0           ┆ 0          ┆ 0               │\n",
       "└──────┴─────────────┴────────────────┴────────┴─────────────┴────────────┴─────────────────┘"
      ]
     },
     "execution_count": 6,
     "metadata": {},
     "output_type": "execute_result"
    }
   ],
   "source": [
    "validation.null_count()"
   ]
  },
  {
   "cell_type": "code",
   "execution_count": 7,
   "metadata": {},
   "outputs": [
    {
     "data": {
      "text/html": [
       "<div><style>\n",
       ".dataframe > thead > tr,\n",
       ".dataframe > tbody > tr {\n",
       "  text-align: right;\n",
       "  white-space: pre-wrap;\n",
       "}\n",
       "</style>\n",
       "<small>shape: (1, 6)</small><table border=\"1\" class=\"dataframe\"><thead><tr><th>valid_miles</th><th>transport_type</th><th>weight</th><th>pickup_date</th><th>origin_kma</th><th>destination_kma</th></tr><tr><td>u32</td><td>u32</td><td>u32</td><td>u32</td><td>u32</td><td>u32</td></tr></thead><tbody><tr><td>0</td><td>0</td><td>0</td><td>0</td><td>0</td><td>0</td></tr></tbody></table></div>"
      ],
      "text/plain": [
       "shape: (1, 6)\n",
       "┌─────────────┬────────────────┬────────┬─────────────┬────────────┬─────────────────┐\n",
       "│ valid_miles ┆ transport_type ┆ weight ┆ pickup_date ┆ origin_kma ┆ destination_kma │\n",
       "│ ---         ┆ ---            ┆ ---    ┆ ---         ┆ ---        ┆ ---             │\n",
       "│ u32         ┆ u32            ┆ u32    ┆ u32         ┆ u32        ┆ u32             │\n",
       "╞═════════════╪════════════════╪════════╪═════════════╪════════════╪═════════════════╡\n",
       "│ 0           ┆ 0              ┆ 0      ┆ 0           ┆ 0          ┆ 0               │\n",
       "└─────────────┴────────────────┴────────┴─────────────┴────────────┴─────────────────┘"
      ]
     },
     "execution_count": 7,
     "metadata": {},
     "output_type": "execute_result"
    }
   ],
   "source": [
    "test.null_count()"
   ]
  },
  {
   "cell_type": "code",
   "execution_count": 8,
   "metadata": {},
   "outputs": [],
   "source": [
    "train = train.with_columns(c(\"weight\").fill_null(strategy=\"mean\"))"
   ]
  },
  {
   "cell_type": "markdown",
   "metadata": {},
   "source": [
    "### date features"
   ]
  },
  {
   "cell_type": "code",
   "execution_count": 9,
   "metadata": {},
   "outputs": [],
   "source": [
    "def is_holiday_next_days(x):\n",
    "    if x + timedelta(days=1) in US_HOLIDAYS:\n",
    "        return 1\n",
    "    elif x + timedelta(days=2) in US_HOLIDAYS:\n",
    "        return 1\n",
    "    elif x + timedelta(days=3) in US_HOLIDAYS:\n",
    "        return 1\n",
    "        # elif x + timedelta(days=4) in US_HOLIDAYS:\n",
    "        #     return 1\n",
    "        # elif x + timedelta(days=5) in US_HOLIDAYS:\n",
    "        #     return 1\n",
    "        # elif x + timedelta(days=6) in US_HOLIDAYS:\n",
    "        return 1\n",
    "    else:\n",
    "        return 0"
   ]
  },
  {
   "cell_type": "code",
   "execution_count": 10,
   "metadata": {},
   "outputs": [],
   "source": [
    "def add_date_features(df: pl.DataFrame) -> pl.DataFrame:\n",
    "    df = df.with_columns(\n",
    "        # make trigonometric\n",
    "        c(\"pickup_date\").dt.month().alias(\"month\"),\n",
    "        c(\"pickup_date\").dt.weekday().alias(\"weekday\"),\n",
    "        c(\"pickup_date\").dt.week().alias(\"week\"),\n",
    "        # c(\"pickup_date\").dt.hour().alias(\"hour\"),\n",
    "        #\n",
    "        c(\"pickup_date\").dt.year().alias(\"year\"),\n",
    "        c(\"pickup_date\").dt.date().alias(\"date\"),\n",
    "        #\n",
    "        # holidays\n",
    "        c(\"pickup_date\")\n",
    "        .dt.date()\n",
    "        .map_elements(\n",
    "            function=is_holiday_next_days,\n",
    "            return_dtype=pl.Int64,\n",
    "        )\n",
    "        .alias(\"is_holiday_next_week\"),\n",
    "        c(\"pickup_date\")\n",
    "        .dt.date()\n",
    "        .map_elements(\n",
    "            function=lambda x: 1 if x in US_HOLIDAYS else 0,\n",
    "            return_dtype=pl.Int64,\n",
    "        )\n",
    "        .alias(\"is_holiday\"),\n",
    "    )\n",
    "    return df"
   ]
  },
  {
   "cell_type": "code",
   "execution_count": 11,
   "metadata": {},
   "outputs": [
    {
     "data": {
      "text/html": [
       "<div><style>\n",
       ".dataframe > thead > tr,\n",
       ".dataframe > tbody > tr {\n",
       "  text-align: right;\n",
       "  white-space: pre-wrap;\n",
       "}\n",
       "</style>\n",
       "<small>shape: (5, 14)</small><table border=\"1\" class=\"dataframe\"><thead><tr><th>rate</th><th>valid_miles</th><th>transport_type</th><th>weight</th><th>pickup_date</th><th>origin_kma</th><th>destination_kma</th><th>month</th><th>weekday</th><th>week</th><th>year</th><th>date</th><th>is_holiday_next_week</th><th>is_holiday</th></tr><tr><td>f64</td><td>f64</td><td>str</td><td>f64</td><td>datetime[μs]</td><td>str</td><td>str</td><td>i8</td><td>i8</td><td>i8</td><td>i32</td><td>date</td><td>i64</td><td>i64</td></tr></thead><tbody><tr><td>4.7203</td><td>521.8451</td><td>&quot;MKPFX&quot;</td><td>9231.75</td><td>2019-11-10 10:42:00</td><td>&quot;OMUOI&quot;</td><td>&quot;LFUHN&quot;</td><td>11</td><td>7</td><td>45</td><td>2019</td><td>2019-11-10</td><td>1</td><td>0</td></tr><tr><td>4.9005</td><td>532.6675</td><td>&quot;MKPFX&quot;</td><td>11754.95</td><td>2019-11-10 10:42:00</td><td>&quot;OMUOI&quot;</td><td>&quot;LFUHN&quot;</td><td>11</td><td>7</td><td>45</td><td>2019</td><td>2019-11-10</td><td>1</td><td>0</td></tr><tr><td>4.7018</td><td>523.9188</td><td>&quot;MKPFX&quot;</td><td>9603.2</td><td>2019-11-10 10:42:00</td><td>&quot;OMUOI&quot;</td><td>&quot;LFUHN&quot;</td><td>11</td><td>7</td><td>45</td><td>2019</td><td>2019-11-10</td><td>1</td><td>0</td></tr><tr><td>4.6388</td><td>562.8296</td><td>&quot;MKPFX&quot;</td><td>8789.05</td><td>2019-11-10 10:42:00</td><td>&quot;OMUOI&quot;</td><td>&quot;LFUHN&quot;</td><td>11</td><td>7</td><td>45</td><td>2019</td><td>2019-11-10</td><td>1</td><td>0</td></tr><tr><td>5.0206</td><td>519.8782</td><td>&quot;MKPFX&quot;</td><td>9597.5</td><td>2019-11-10 10:42:00</td><td>&quot;OMUOI&quot;</td><td>&quot;LFUHN&quot;</td><td>11</td><td>7</td><td>45</td><td>2019</td><td>2019-11-10</td><td>1</td><td>0</td></tr></tbody></table></div>"
      ],
      "text/plain": [
       "shape: (5, 14)\n",
       "┌────────┬─────────────┬─────────────┬──────────┬───┬──────┬────────────┬─────────────┬────────────┐\n",
       "│ rate   ┆ valid_miles ┆ transport_t ┆ weight   ┆ … ┆ year ┆ date       ┆ is_holiday_ ┆ is_holiday │\n",
       "│ ---    ┆ ---         ┆ ype         ┆ ---      ┆   ┆ ---  ┆ ---        ┆ next_week   ┆ ---        │\n",
       "│ f64    ┆ f64         ┆ ---         ┆ f64      ┆   ┆ i32  ┆ date       ┆ ---         ┆ i64        │\n",
       "│        ┆             ┆ str         ┆          ┆   ┆      ┆            ┆ i64         ┆            │\n",
       "╞════════╪═════════════╪═════════════╪══════════╪═══╪══════╪════════════╪═════════════╪════════════╡\n",
       "│ 4.7203 ┆ 521.8451    ┆ MKPFX       ┆ 9231.75  ┆ … ┆ 2019 ┆ 2019-11-10 ┆ 1           ┆ 0          │\n",
       "│ 4.9005 ┆ 532.6675    ┆ MKPFX       ┆ 11754.95 ┆ … ┆ 2019 ┆ 2019-11-10 ┆ 1           ┆ 0          │\n",
       "│ 4.7018 ┆ 523.9188    ┆ MKPFX       ┆ 9603.2   ┆ … ┆ 2019 ┆ 2019-11-10 ┆ 1           ┆ 0          │\n",
       "│ 4.6388 ┆ 562.8296    ┆ MKPFX       ┆ 8789.05  ┆ … ┆ 2019 ┆ 2019-11-10 ┆ 1           ┆ 0          │\n",
       "│ 5.0206 ┆ 519.8782    ┆ MKPFX       ┆ 9597.5   ┆ … ┆ 2019 ┆ 2019-11-10 ┆ 1           ┆ 0          │\n",
       "└────────┴─────────────┴─────────────┴──────────┴───┴──────┴────────────┴─────────────┴────────────┘"
      ]
     },
     "execution_count": 11,
     "metadata": {},
     "output_type": "execute_result"
    }
   ],
   "source": [
    "train = add_date_features(train)\n",
    "validation = add_date_features(validation)\n",
    "test = add_date_features(test)\n",
    "train.head()"
   ]
  },
  {
   "cell_type": "markdown",
   "metadata": {},
   "source": [
    "### weight/mile features"
   ]
  },
  {
   "cell_type": "code",
   "execution_count": 12,
   "metadata": {},
   "outputs": [],
   "source": [
    "def add_weight_mile_features(df: pl.DataFrame) -> pl.DataFrame:\n",
    "    df = df.with_columns(\n",
    "        (c(\"weight\") * c(\"valid_miles\")).alias(\"weight_mile\"),\n",
    "        (c(\"weight\") / c(\"valid_miles\")).alias(\"weight_per_mile\"),\n",
    "        c(\"valid_miles\").log(),\n",
    "    )\n",
    "    return df"
   ]
  },
  {
   "cell_type": "code",
   "execution_count": 13,
   "metadata": {},
   "outputs": [
    {
     "data": {
      "text/html": [
       "<div><style>\n",
       ".dataframe > thead > tr,\n",
       ".dataframe > tbody > tr {\n",
       "  text-align: right;\n",
       "  white-space: pre-wrap;\n",
       "}\n",
       "</style>\n",
       "<small>shape: (5, 16)</small><table border=\"1\" class=\"dataframe\"><thead><tr><th>rate</th><th>valid_miles</th><th>transport_type</th><th>weight</th><th>pickup_date</th><th>origin_kma</th><th>destination_kma</th><th>month</th><th>weekday</th><th>week</th><th>year</th><th>date</th><th>is_holiday_next_week</th><th>is_holiday</th><th>weight_mile</th><th>weight_per_mile</th></tr><tr><td>f64</td><td>f64</td><td>str</td><td>f64</td><td>datetime[μs]</td><td>str</td><td>str</td><td>i8</td><td>i8</td><td>i8</td><td>i32</td><td>date</td><td>i64</td><td>i64</td><td>f64</td><td>f64</td></tr></thead><tbody><tr><td>4.7203</td><td>6.257371</td><td>&quot;MKPFX&quot;</td><td>9231.75</td><td>2019-11-10 10:42:00</td><td>&quot;OMUOI&quot;</td><td>&quot;LFUHN&quot;</td><td>11</td><td>7</td><td>45</td><td>2019</td><td>2019-11-10</td><td>1</td><td>0</td><td>4.8175e6</td><td>17.690594</td></tr><tr><td>4.9005</td><td>6.277897</td><td>&quot;MKPFX&quot;</td><td>11754.95</td><td>2019-11-10 10:42:00</td><td>&quot;OMUOI&quot;</td><td>&quot;LFUHN&quot;</td><td>11</td><td>7</td><td>45</td><td>2019</td><td>2019-11-10</td><td>1</td><td>0</td><td>6.2615e6</td><td>22.068082</td></tr><tr><td>4.7018</td><td>6.261337</td><td>&quot;MKPFX&quot;</td><td>9603.2</td><td>2019-11-10 10:42:00</td><td>&quot;OMUOI&quot;</td><td>&quot;LFUHN&quot;</td><td>11</td><td>7</td><td>45</td><td>2019</td><td>2019-11-10</td><td>1</td><td>0</td><td>5.0313e6</td><td>18.329558</td></tr><tr><td>4.6388</td><td>6.332977</td><td>&quot;MKPFX&quot;</td><td>8789.05</td><td>2019-11-10 10:42:00</td><td>&quot;OMUOI&quot;</td><td>&quot;LFUHN&quot;</td><td>11</td><td>7</td><td>45</td><td>2019</td><td>2019-11-10</td><td>1</td><td>0</td><td>4.9467e6</td><td>15.615828</td></tr><tr><td>5.0206</td><td>6.253595</td><td>&quot;MKPFX&quot;</td><td>9597.5</td><td>2019-11-10 10:42:00</td><td>&quot;OMUOI&quot;</td><td>&quot;LFUHN&quot;</td><td>11</td><td>7</td><td>45</td><td>2019</td><td>2019-11-10</td><td>1</td><td>0</td><td>4.9895e6</td><td>18.461055</td></tr></tbody></table></div>"
      ],
      "text/plain": [
       "shape: (5, 16)\n",
       "┌────────┬────────────┬────────────┬──────────┬───┬────────────┬───────────┬───────────┬───────────┐\n",
       "│ rate   ┆ valid_mile ┆ transport_ ┆ weight   ┆ … ┆ is_holiday ┆ is_holida ┆ weight_mi ┆ weight_pe │\n",
       "│ ---    ┆ s          ┆ type       ┆ ---      ┆   ┆ _next_week ┆ y         ┆ le        ┆ r_mile    │\n",
       "│ f64    ┆ ---        ┆ ---        ┆ f64      ┆   ┆ ---        ┆ ---       ┆ ---       ┆ ---       │\n",
       "│        ┆ f64        ┆ str        ┆          ┆   ┆ i64        ┆ i64       ┆ f64       ┆ f64       │\n",
       "╞════════╪════════════╪════════════╪══════════╪═══╪════════════╪═══════════╪═══════════╪═══════════╡\n",
       "│ 4.7203 ┆ 6.257371   ┆ MKPFX      ┆ 9231.75  ┆ … ┆ 1          ┆ 0         ┆ 4.8175e6  ┆ 17.690594 │\n",
       "│ 4.9005 ┆ 6.277897   ┆ MKPFX      ┆ 11754.95 ┆ … ┆ 1          ┆ 0         ┆ 6.2615e6  ┆ 22.068082 │\n",
       "│ 4.7018 ┆ 6.261337   ┆ MKPFX      ┆ 9603.2   ┆ … ┆ 1          ┆ 0         ┆ 5.0313e6  ┆ 18.329558 │\n",
       "│ 4.6388 ┆ 6.332977   ┆ MKPFX      ┆ 8789.05  ┆ … ┆ 1          ┆ 0         ┆ 4.9467e6  ┆ 15.615828 │\n",
       "│ 5.0206 ┆ 6.253595   ┆ MKPFX      ┆ 9597.5   ┆ … ┆ 1          ┆ 0         ┆ 4.9895e6  ┆ 18.461055 │\n",
       "└────────┴────────────┴────────────┴──────────┴───┴────────────┴───────────┴───────────┴───────────┘"
      ]
     },
     "execution_count": 13,
     "metadata": {},
     "output_type": "execute_result"
    }
   ],
   "source": [
    "train = add_weight_mile_features(train)\n",
    "validation = add_weight_mile_features(validation)\n",
    "test = add_weight_mile_features(test)\n",
    "train.head()"
   ]
  },
  {
   "cell_type": "markdown",
   "metadata": {},
   "source": [
    "### kma_pair_feature"
   ]
  },
  {
   "cell_type": "code",
   "execution_count": 14,
   "metadata": {},
   "outputs": [],
   "source": [
    "def add_kma_pair_feature(df: pl.DataFrame) -> pl.DataFrame:\n",
    "    df = df.with_columns(\n",
    "        pl.concat_list(\"origin_kma\", \"destination_kma\")\n",
    "        # .list.sort()\n",
    "        .list.join(\"_\").alias(\"kma_pair\"),\n",
    "    )\n",
    "    # .drop(\"origin_kma\", \"destination_kma\")\n",
    "    return df"
   ]
  },
  {
   "cell_type": "code",
   "execution_count": 15,
   "metadata": {},
   "outputs": [
    {
     "data": {
      "text/html": [
       "<div><style>\n",
       ".dataframe > thead > tr,\n",
       ".dataframe > tbody > tr {\n",
       "  text-align: right;\n",
       "  white-space: pre-wrap;\n",
       "}\n",
       "</style>\n",
       "<small>shape: (5, 17)</small><table border=\"1\" class=\"dataframe\"><thead><tr><th>rate</th><th>valid_miles</th><th>transport_type</th><th>weight</th><th>pickup_date</th><th>origin_kma</th><th>destination_kma</th><th>month</th><th>weekday</th><th>week</th><th>year</th><th>date</th><th>is_holiday_next_week</th><th>is_holiday</th><th>weight_mile</th><th>weight_per_mile</th><th>kma_pair</th></tr><tr><td>f64</td><td>f64</td><td>str</td><td>f64</td><td>datetime[μs]</td><td>str</td><td>str</td><td>i8</td><td>i8</td><td>i8</td><td>i32</td><td>date</td><td>i64</td><td>i64</td><td>f64</td><td>f64</td><td>str</td></tr></thead><tbody><tr><td>4.7203</td><td>6.257371</td><td>&quot;MKPFX&quot;</td><td>9231.75</td><td>2019-11-10 10:42:00</td><td>&quot;OMUOI&quot;</td><td>&quot;LFUHN&quot;</td><td>11</td><td>7</td><td>45</td><td>2019</td><td>2019-11-10</td><td>1</td><td>0</td><td>4.8175e6</td><td>17.690594</td><td>&quot;OMUOI_LFUHN&quot;</td></tr><tr><td>4.9005</td><td>6.277897</td><td>&quot;MKPFX&quot;</td><td>11754.95</td><td>2019-11-10 10:42:00</td><td>&quot;OMUOI&quot;</td><td>&quot;LFUHN&quot;</td><td>11</td><td>7</td><td>45</td><td>2019</td><td>2019-11-10</td><td>1</td><td>0</td><td>6.2615e6</td><td>22.068082</td><td>&quot;OMUOI_LFUHN&quot;</td></tr><tr><td>4.7018</td><td>6.261337</td><td>&quot;MKPFX&quot;</td><td>9603.2</td><td>2019-11-10 10:42:00</td><td>&quot;OMUOI&quot;</td><td>&quot;LFUHN&quot;</td><td>11</td><td>7</td><td>45</td><td>2019</td><td>2019-11-10</td><td>1</td><td>0</td><td>5.0313e6</td><td>18.329558</td><td>&quot;OMUOI_LFUHN&quot;</td></tr><tr><td>4.6388</td><td>6.332977</td><td>&quot;MKPFX&quot;</td><td>8789.05</td><td>2019-11-10 10:42:00</td><td>&quot;OMUOI&quot;</td><td>&quot;LFUHN&quot;</td><td>11</td><td>7</td><td>45</td><td>2019</td><td>2019-11-10</td><td>1</td><td>0</td><td>4.9467e6</td><td>15.615828</td><td>&quot;OMUOI_LFUHN&quot;</td></tr><tr><td>5.0206</td><td>6.253595</td><td>&quot;MKPFX&quot;</td><td>9597.5</td><td>2019-11-10 10:42:00</td><td>&quot;OMUOI&quot;</td><td>&quot;LFUHN&quot;</td><td>11</td><td>7</td><td>45</td><td>2019</td><td>2019-11-10</td><td>1</td><td>0</td><td>4.9895e6</td><td>18.461055</td><td>&quot;OMUOI_LFUHN&quot;</td></tr></tbody></table></div>"
      ],
      "text/plain": [
       "shape: (5, 17)\n",
       "┌────────┬────────────┬────────────┬──────────┬───┬────────────┬───────────┬───────────┬───────────┐\n",
       "│ rate   ┆ valid_mile ┆ transport_ ┆ weight   ┆ … ┆ is_holiday ┆ weight_mi ┆ weight_pe ┆ kma_pair  │\n",
       "│ ---    ┆ s          ┆ type       ┆ ---      ┆   ┆ ---        ┆ le        ┆ r_mile    ┆ ---       │\n",
       "│ f64    ┆ ---        ┆ ---        ┆ f64      ┆   ┆ i64        ┆ ---       ┆ ---       ┆ str       │\n",
       "│        ┆ f64        ┆ str        ┆          ┆   ┆            ┆ f64       ┆ f64       ┆           │\n",
       "╞════════╪════════════╪════════════╪══════════╪═══╪════════════╪═══════════╪═══════════╪═══════════╡\n",
       "│ 4.7203 ┆ 6.257371   ┆ MKPFX      ┆ 9231.75  ┆ … ┆ 0          ┆ 4.8175e6  ┆ 17.690594 ┆ OMUOI_LFU │\n",
       "│        ┆            ┆            ┆          ┆   ┆            ┆           ┆           ┆ HN        │\n",
       "│ 4.9005 ┆ 6.277897   ┆ MKPFX      ┆ 11754.95 ┆ … ┆ 0          ┆ 6.2615e6  ┆ 22.068082 ┆ OMUOI_LFU │\n",
       "│        ┆            ┆            ┆          ┆   ┆            ┆           ┆           ┆ HN        │\n",
       "│ 4.7018 ┆ 6.261337   ┆ MKPFX      ┆ 9603.2   ┆ … ┆ 0          ┆ 5.0313e6  ┆ 18.329558 ┆ OMUOI_LFU │\n",
       "│        ┆            ┆            ┆          ┆   ┆            ┆           ┆           ┆ HN        │\n",
       "│ 4.6388 ┆ 6.332977   ┆ MKPFX      ┆ 8789.05  ┆ … ┆ 0          ┆ 4.9467e6  ┆ 15.615828 ┆ OMUOI_LFU │\n",
       "│        ┆            ┆            ┆          ┆   ┆            ┆           ┆           ┆ HN        │\n",
       "│ 5.0206 ┆ 6.253595   ┆ MKPFX      ┆ 9597.5   ┆ … ┆ 0          ┆ 4.9895e6  ┆ 18.461055 ┆ OMUOI_LFU │\n",
       "│        ┆            ┆            ┆          ┆   ┆            ┆           ┆           ┆ HN        │\n",
       "└────────┴────────────┴────────────┴──────────┴───┴────────────┴───────────┴───────────┴───────────┘"
      ]
     },
     "execution_count": 15,
     "metadata": {},
     "output_type": "execute_result"
    }
   ],
   "source": [
    "train = add_kma_pair_feature(train)\n",
    "validation = add_kma_pair_feature(validation)\n",
    "test = add_kma_pair_feature(test)\n",
    "train.head()"
   ]
  },
  {
   "cell_type": "markdown",
   "metadata": {},
   "source": [
    "### split train into train_df and eval_df"
   ]
  },
  {
   "cell_type": "code",
   "execution_count": 16,
   "metadata": {},
   "outputs": [],
   "source": [
    "train_df = train.filter(\n",
    "    c(\"pickup_date\").dt.date() < train[\"pickup_date\"].max().date() - timedelta(days=22)\n",
    ")\n",
    "eval_df = train.filter(\n",
    "    c(\"pickup_date\").dt.date() >= train[\"pickup_date\"].max().date() - timedelta(days=22)\n",
    ")"
   ]
  },
  {
   "cell_type": "markdown",
   "metadata": {},
   "source": [
    "### kma features"
   ]
  },
  {
   "cell_type": "code",
   "execution_count": 17,
   "metadata": {},
   "outputs": [
    {
     "data": {
      "text/html": [
       "<div><style>\n",
       ".dataframe > thead > tr,\n",
       ".dataframe > tbody > tr {\n",
       "  text-align: right;\n",
       "  white-space: pre-wrap;\n",
       "}\n",
       "</style>\n",
       "<small>shape: (5, 3)</small><table border=\"1\" class=\"dataframe\"><thead><tr><th>kma_pair</th><th>transport_type</th><th>kma_transport_median</th></tr><tr><td>str</td><td>str</td><td>f64</td></tr></thead><tbody><tr><td>&quot;RPJIS_RJGHA&quot;</td><td>&quot;GJROY&quot;</td><td>7.1223</td></tr><tr><td>&quot;RCDSS_DLGVW&quot;</td><td>&quot;MKPFX&quot;</td><td>4.1065</td></tr><tr><td>&quot;NPCXM_TVZUE&quot;</td><td>&quot;KFEGT&quot;</td><td>8.9591</td></tr><tr><td>&quot;TXLFD_NTQBJ&quot;</td><td>&quot;MKPFX&quot;</td><td>3.0478</td></tr><tr><td>&quot;RPJIS_QGHCU&quot;</td><td>&quot;GJROY&quot;</td><td>6.5445</td></tr></tbody></table></div>"
      ],
      "text/plain": [
       "shape: (5, 3)\n",
       "┌─────────────┬────────────────┬──────────────────────┐\n",
       "│ kma_pair    ┆ transport_type ┆ kma_transport_median │\n",
       "│ ---         ┆ ---            ┆ ---                  │\n",
       "│ str         ┆ str            ┆ f64                  │\n",
       "╞═════════════╪════════════════╪══════════════════════╡\n",
       "│ RPJIS_RJGHA ┆ GJROY          ┆ 7.1223               │\n",
       "│ RCDSS_DLGVW ┆ MKPFX          ┆ 4.1065               │\n",
       "│ NPCXM_TVZUE ┆ KFEGT          ┆ 8.9591               │\n",
       "│ TXLFD_NTQBJ ┆ MKPFX          ┆ 3.0478               │\n",
       "│ RPJIS_QGHCU ┆ GJROY          ┆ 6.5445               │\n",
       "└─────────────┴────────────────┴──────────────────────┘"
      ]
     },
     "execution_count": 17,
     "metadata": {},
     "output_type": "execute_result"
    }
   ],
   "source": [
    "kma_transport_median = (\n",
    "    train_df.group_by(\"kma_pair\", \"transport_type\")\n",
    "    .agg(\n",
    "        c(\"rate\").count().alias(\"kma_transport_count\"),\n",
    "        c(\"rate\").median().alias(\"kma_transport_median\"),\n",
    "    )\n",
    "    .sort(\"kma_transport_count\")\n",
    "    # .filter(c(\"kma_transport_count\") >= 5)\n",
    "    .drop(\"kma_transport_count\")\n",
    ")\n",
    "kma_transport_median.head()"
   ]
  },
  {
   "cell_type": "code",
   "execution_count": 18,
   "metadata": {},
   "outputs": [],
   "source": [
    "def add_kma_transport_median(df: pl.DataFrame) -> pl.DataFrame:\n",
    "    df = df.join(\n",
    "        kma_transport_median,\n",
    "        on=[\"kma_pair\", \"transport_type\"],\n",
    "        how=\"left\",\n",
    "    ).with_columns(\n",
    "        c(\"kma_transport_median\").fill_null(0),\n",
    "    )\n",
    "    return df"
   ]
  },
  {
   "cell_type": "code",
   "execution_count": 19,
   "metadata": {},
   "outputs": [
    {
     "data": {
      "text/html": [
       "<div><style>\n",
       ".dataframe > thead > tr,\n",
       ".dataframe > tbody > tr {\n",
       "  text-align: right;\n",
       "  white-space: pre-wrap;\n",
       "}\n",
       "</style>\n",
       "<small>shape: (5, 18)</small><table border=\"1\" class=\"dataframe\"><thead><tr><th>rate</th><th>valid_miles</th><th>transport_type</th><th>weight</th><th>pickup_date</th><th>origin_kma</th><th>destination_kma</th><th>month</th><th>weekday</th><th>week</th><th>year</th><th>date</th><th>is_holiday_next_week</th><th>is_holiday</th><th>weight_mile</th><th>weight_per_mile</th><th>kma_pair</th><th>kma_transport_median</th></tr><tr><td>f64</td><td>f64</td><td>str</td><td>f64</td><td>datetime[μs]</td><td>str</td><td>str</td><td>i8</td><td>i8</td><td>i8</td><td>i32</td><td>date</td><td>i64</td><td>i64</td><td>f64</td><td>f64</td><td>str</td><td>f64</td></tr></thead><tbody><tr><td>4.7203</td><td>6.257371</td><td>&quot;MKPFX&quot;</td><td>9231.75</td><td>2019-11-10 10:42:00</td><td>&quot;OMUOI&quot;</td><td>&quot;LFUHN&quot;</td><td>11</td><td>7</td><td>45</td><td>2019</td><td>2019-11-10</td><td>1</td><td>0</td><td>4.8175e6</td><td>17.690594</td><td>&quot;OMUOI_LFUHN&quot;</td><td>4.6315</td></tr><tr><td>4.9005</td><td>6.277897</td><td>&quot;MKPFX&quot;</td><td>11754.95</td><td>2019-11-10 10:42:00</td><td>&quot;OMUOI&quot;</td><td>&quot;LFUHN&quot;</td><td>11</td><td>7</td><td>45</td><td>2019</td><td>2019-11-10</td><td>1</td><td>0</td><td>6.2615e6</td><td>22.068082</td><td>&quot;OMUOI_LFUHN&quot;</td><td>4.6315</td></tr><tr><td>4.7018</td><td>6.261337</td><td>&quot;MKPFX&quot;</td><td>9603.2</td><td>2019-11-10 10:42:00</td><td>&quot;OMUOI&quot;</td><td>&quot;LFUHN&quot;</td><td>11</td><td>7</td><td>45</td><td>2019</td><td>2019-11-10</td><td>1</td><td>0</td><td>5.0313e6</td><td>18.329558</td><td>&quot;OMUOI_LFUHN&quot;</td><td>4.6315</td></tr><tr><td>4.6388</td><td>6.332977</td><td>&quot;MKPFX&quot;</td><td>8789.05</td><td>2019-11-10 10:42:00</td><td>&quot;OMUOI&quot;</td><td>&quot;LFUHN&quot;</td><td>11</td><td>7</td><td>45</td><td>2019</td><td>2019-11-10</td><td>1</td><td>0</td><td>4.9467e6</td><td>15.615828</td><td>&quot;OMUOI_LFUHN&quot;</td><td>4.6315</td></tr><tr><td>5.0206</td><td>6.253595</td><td>&quot;MKPFX&quot;</td><td>9597.5</td><td>2019-11-10 10:42:00</td><td>&quot;OMUOI&quot;</td><td>&quot;LFUHN&quot;</td><td>11</td><td>7</td><td>45</td><td>2019</td><td>2019-11-10</td><td>1</td><td>0</td><td>4.9895e6</td><td>18.461055</td><td>&quot;OMUOI_LFUHN&quot;</td><td>4.6315</td></tr></tbody></table></div>"
      ],
      "text/plain": [
       "shape: (5, 18)\n",
       "┌────────┬────────────┬────────────┬──────────┬───┬────────────┬───────────┬───────────┬───────────┐\n",
       "│ rate   ┆ valid_mile ┆ transport_ ┆ weight   ┆ … ┆ weight_mil ┆ weight_pe ┆ kma_pair  ┆ kma_trans │\n",
       "│ ---    ┆ s          ┆ type       ┆ ---      ┆   ┆ e          ┆ r_mile    ┆ ---       ┆ port_medi │\n",
       "│ f64    ┆ ---        ┆ ---        ┆ f64      ┆   ┆ ---        ┆ ---       ┆ str       ┆ an        │\n",
       "│        ┆ f64        ┆ str        ┆          ┆   ┆ f64        ┆ f64       ┆           ┆ ---       │\n",
       "│        ┆            ┆            ┆          ┆   ┆            ┆           ┆           ┆ f64       │\n",
       "╞════════╪════════════╪════════════╪══════════╪═══╪════════════╪═══════════╪═══════════╪═══════════╡\n",
       "│ 4.7203 ┆ 6.257371   ┆ MKPFX      ┆ 9231.75  ┆ … ┆ 4.8175e6   ┆ 17.690594 ┆ OMUOI_LFU ┆ 4.6315    │\n",
       "│        ┆            ┆            ┆          ┆   ┆            ┆           ┆ HN        ┆           │\n",
       "│ 4.9005 ┆ 6.277897   ┆ MKPFX      ┆ 11754.95 ┆ … ┆ 6.2615e6   ┆ 22.068082 ┆ OMUOI_LFU ┆ 4.6315    │\n",
       "│        ┆            ┆            ┆          ┆   ┆            ┆           ┆ HN        ┆           │\n",
       "│ 4.7018 ┆ 6.261337   ┆ MKPFX      ┆ 9603.2   ┆ … ┆ 5.0313e6   ┆ 18.329558 ┆ OMUOI_LFU ┆ 4.6315    │\n",
       "│        ┆            ┆            ┆          ┆   ┆            ┆           ┆ HN        ┆           │\n",
       "│ 4.6388 ┆ 6.332977   ┆ MKPFX      ┆ 8789.05  ┆ … ┆ 4.9467e6   ┆ 15.615828 ┆ OMUOI_LFU ┆ 4.6315    │\n",
       "│        ┆            ┆            ┆          ┆   ┆            ┆           ┆ HN        ┆           │\n",
       "│ 5.0206 ┆ 6.253595   ┆ MKPFX      ┆ 9597.5   ┆ … ┆ 4.9895e6   ┆ 18.461055 ┆ OMUOI_LFU ┆ 4.6315    │\n",
       "│        ┆            ┆            ┆          ┆   ┆            ┆           ┆ HN        ┆           │\n",
       "└────────┴────────────┴────────────┴──────────┴───┴────────────┴───────────┴───────────┴───────────┘"
      ]
     },
     "execution_count": 19,
     "metadata": {},
     "output_type": "execute_result"
    }
   ],
   "source": [
    "train_df = add_kma_transport_median(train_df)\n",
    "eval_df = add_kma_transport_median(eval_df)\n",
    "train = add_kma_transport_median(train)\n",
    "validation = add_kma_transport_median(validation)\n",
    "test = add_kma_transport_median(test)\n",
    "train_df.head()"
   ]
  },
  {
   "cell_type": "code",
   "execution_count": 20,
   "metadata": {},
   "outputs": [
    {
     "data": {
      "text/html": [
       "<div><style>\n",
       ".dataframe > thead > tr,\n",
       ".dataframe > tbody > tr {\n",
       "  text-align: right;\n",
       "  white-space: pre-wrap;\n",
       "}\n",
       "</style>\n",
       "<small>shape: (2, 2)</small><table border=\"1\" class=\"dataframe\"><thead><tr><th>rate</th><th>kma_transport_median</th></tr><tr><td>f64</td><td>f64</td></tr></thead><tbody><tr><td>1.0</td><td>0.838627</td></tr><tr><td>0.838627</td><td>1.0</td></tr></tbody></table></div>"
      ],
      "text/plain": [
       "shape: (2, 2)\n",
       "┌──────────┬──────────────────────┐\n",
       "│ rate     ┆ kma_transport_median │\n",
       "│ ---      ┆ ---                  │\n",
       "│ f64      ┆ f64                  │\n",
       "╞══════════╪══════════════════════╡\n",
       "│ 1.0      ┆ 0.838627             │\n",
       "│ 0.838627 ┆ 1.0                  │\n",
       "└──────────┴──────────────────────┘"
      ]
     },
     "execution_count": 20,
     "metadata": {},
     "output_type": "execute_result"
    }
   ],
   "source": [
    "train_df.select(\"rate\", \"kma_transport_median\").corr()"
   ]
  },
  {
   "cell_type": "code",
   "execution_count": 21,
   "metadata": {},
   "outputs": [
    {
     "data": {
      "text/plain": [
       "21.16"
      ]
     },
     "execution_count": 21,
     "metadata": {},
     "output_type": "execute_result"
    }
   ],
   "source": [
    "mape_f(validation[\"rate\"], validation[\"kma_transport_median\"])"
   ]
  },
  {
   "cell_type": "markdown",
   "metadata": {},
   "source": [
    "### lag features"
   ]
  },
  {
   "cell_type": "markdown",
   "metadata": {},
   "source": [
    "#### for eval_df"
   ]
  },
  {
   "cell_type": "code",
   "execution_count": 42,
   "metadata": {},
   "outputs": [],
   "source": [
    "shifted_week_rate = (\n",
    "    train_df.group_by(\"date\", \"kma_pair\", \"transport_type\")\n",
    "    .agg(\n",
    "        c(\"rate\").median(),\n",
    "    )\n",
    "    .sort(\"date\")\n",
    "    .with_columns(\n",
    "        c(\"rate\")\n",
    "        .rolling_median(window_size=7, center=False, min_samples=1)\n",
    "        .over(\"kma_pair\", \"transport_type\")\n",
    "        .alias(\"rolling_rate\"),\n",
    "    )\n",
    "    .with_columns(\n",
    "        c(\"rolling_rate\")\n",
    "        .shift(1)\n",
    "        .over(\"kma_pair\", \"transport_type\")\n",
    "        .alias(\"shifted_week_rate\"),\n",
    "    )\n",
    "    .with_columns(\n",
    "        c(\"shifted_week_rate\").forward_fill().over(\"kma_pair\", \"transport_type\")\n",
    "    )\n",
    "    .select(\n",
    "        \"date\",\n",
    "        \"kma_pair\",\n",
    "        \"transport_type\",\n",
    "        \"shifted_week_rate\",\n",
    "    )\n",
    ")\n",
    "\n",
    "transformed_train_df = train_df.join(\n",
    "    shifted_week_rate,\n",
    "    on=[\"date\", \"kma_pair\", \"transport_type\"],\n",
    "    how=\"left\",\n",
    ")"
   ]
  },
  {
   "cell_type": "code",
   "execution_count": 23,
   "metadata": {},
   "outputs": [
    {
     "data": {
      "text/plain": [
       "(289693, 19)"
      ]
     },
     "execution_count": 23,
     "metadata": {},
     "output_type": "execute_result"
    }
   ],
   "source": [
    "transformed_train_df.shape"
   ]
  },
  {
   "cell_type": "code",
   "execution_count": 43,
   "metadata": {},
   "outputs": [
    {
     "data": {
      "text/html": [
       "<div><style>\n",
       ".dataframe > thead > tr,\n",
       ".dataframe > tbody > tr {\n",
       "  text-align: right;\n",
       "  white-space: pre-wrap;\n",
       "}\n",
       "</style>\n",
       "<small>shape: (1, 19)</small><table border=\"1\" class=\"dataframe\"><thead><tr><th>rate</th><th>valid_miles</th><th>transport_type</th><th>weight</th><th>pickup_date</th><th>origin_kma</th><th>destination_kma</th><th>month</th><th>weekday</th><th>week</th><th>year</th><th>date</th><th>is_holiday_next_week</th><th>is_holiday</th><th>weight_mile</th><th>weight_per_mile</th><th>kma_pair</th><th>kma_transport_median</th><th>shifted_week_rate</th></tr><tr><td>u32</td><td>u32</td><td>u32</td><td>u32</td><td>u32</td><td>u32</td><td>u32</td><td>u32</td><td>u32</td><td>u32</td><td>u32</td><td>u32</td><td>u32</td><td>u32</td><td>u32</td><td>u32</td><td>u32</td><td>u32</td><td>u32</td></tr></thead><tbody><tr><td>0</td><td>0</td><td>0</td><td>0</td><td>0</td><td>0</td><td>0</td><td>0</td><td>0</td><td>0</td><td>0</td><td>0</td><td>0</td><td>0</td><td>0</td><td>0</td><td>0</td><td>0</td><td>10005</td></tr></tbody></table></div>"
      ],
      "text/plain": [
       "shape: (1, 19)\n",
       "┌──────┬─────────────┬─────────────┬────────┬───┬─────────────┬──────────┬────────────┬────────────┐\n",
       "│ rate ┆ valid_miles ┆ transport_t ┆ weight ┆ … ┆ weight_per_ ┆ kma_pair ┆ kma_transp ┆ shifted_we │\n",
       "│ ---  ┆ ---         ┆ ype         ┆ ---    ┆   ┆ mile        ┆ ---      ┆ ort_median ┆ ek_rate    │\n",
       "│ u32  ┆ u32         ┆ ---         ┆ u32    ┆   ┆ ---         ┆ u32      ┆ ---        ┆ ---        │\n",
       "│      ┆             ┆ u32         ┆        ┆   ┆ u32         ┆          ┆ u32        ┆ u32        │\n",
       "╞══════╪═════════════╪═════════════╪════════╪═══╪═════════════╪══════════╪════════════╪════════════╡\n",
       "│ 0    ┆ 0           ┆ 0           ┆ 0      ┆ … ┆ 0           ┆ 0        ┆ 0          ┆ 10005      │\n",
       "└──────┴─────────────┴─────────────┴────────┴───┴─────────────┴──────────┴────────────┴────────────┘"
      ]
     },
     "execution_count": 43,
     "metadata": {},
     "output_type": "execute_result"
    }
   ],
   "source": [
    "transformed_train_df.null_count()"
   ]
  },
  {
   "cell_type": "code",
   "execution_count": 27,
   "metadata": {},
   "outputs": [],
   "source": [
    "transformed_train_df = transformed_train_df.drop_nulls()"
   ]
  },
  {
   "cell_type": "code",
   "execution_count": 33,
   "metadata": {},
   "outputs": [],
   "source": [
    "def add_kma_pair_transport_lag_feature(\n",
    "    train_df: pl.DataFrame,\n",
    "    eval_df: pl.DataFrame,\n",
    ") -> pl.DataFrame:\n",
    "\n",
    "    cols = train_df.columns\n",
    "\n",
    "    shifted_week_rate = (\n",
    "        train_df.vstack(\n",
    "            eval_df.with_columns(\n",
    "                pl.lit(None).alias(\"rate\"),\n",
    "            ).select(cols)\n",
    "        )\n",
    "        .group_by(\"date\", \"kma_pair\", \"transport_type\")\n",
    "        .agg(\n",
    "            c(\"rate\").median(),\n",
    "        )\n",
    "        .sort(\"date\")\n",
    "        .with_columns(\n",
    "            c(\"rate\")\n",
    "            .rolling_median(window_size=7, center=False, min_samples=1)\n",
    "            .over(\"kma_pair\", \"transport_type\")\n",
    "            .alias(\"rolling_rate\"),\n",
    "        )\n",
    "        .with_columns(\n",
    "            c(\"rolling_rate\")\n",
    "            .shift(1)\n",
    "            .over(\"kma_pair\", \"transport_type\")\n",
    "            .alias(\"shifted_week_rate\"),\n",
    "        )\n",
    "        .with_columns(\n",
    "            c(\"shifted_week_rate\").forward_fill().over(\"kma_pair\", \"transport_type\")\n",
    "        )\n",
    "        .select(\n",
    "            \"date\",\n",
    "            \"kma_pair\",\n",
    "            \"transport_type\",\n",
    "            \"shifted_week_rate\",\n",
    "        )\n",
    "    )\n",
    "\n",
    "    transformed_eval_df = eval_df.join(\n",
    "        shifted_week_rate,\n",
    "        on=[\"date\", \"kma_pair\", \"transport_type\"],\n",
    "        how=\"left\",\n",
    "    )\n",
    "\n",
    "    return transformed_eval_df"
   ]
  },
  {
   "cell_type": "code",
   "execution_count": 34,
   "metadata": {},
   "outputs": [],
   "source": [
    "transformed_eval_df = add_kma_pair_transport_lag_feature(train_df, eval_df)"
   ]
  },
  {
   "cell_type": "code",
   "execution_count": 35,
   "metadata": {},
   "outputs": [],
   "source": [
    "transformed_validation = add_kma_pair_transport_lag_feature(train, validation)"
   ]
  },
  {
   "cell_type": "code",
   "execution_count": 36,
   "metadata": {},
   "outputs": [],
   "source": [
    "transformed_test = add_kma_pair_transport_lag_feature(train.vstack(validation), test)"
   ]
  },
  {
   "cell_type": "code",
   "execution_count": 37,
   "metadata": {},
   "outputs": [
    {
     "name": "stdout",
     "output_type": "stream",
     "text": [
      "transformed_eval_df \t 14.14\n",
      "transformed_validation \t 12.02\n"
     ]
    }
   ],
   "source": [
    "metric = mape_f(\n",
    "    transformed_eval_df.drop_nulls()[\"rate\"],\n",
    "    transformed_eval_df.drop_nulls()[\"shifted_week_rate\"],\n",
    ")\n",
    "print(\"transformed_eval_df \\t\", metric)\n",
    "metric = mape_f(\n",
    "    transformed_validation.drop_nulls()[\"rate\"],\n",
    "    transformed_validation.drop_nulls()[\"shifted_week_rate\"],\n",
    ")\n",
    "print(\"transformed_validation \\t\", metric)"
   ]
  },
  {
   "cell_type": "code",
   "execution_count": 38,
   "metadata": {},
   "outputs": [
    {
     "data": {
      "text/html": [
       "<div><style>\n",
       ".dataframe > thead > tr,\n",
       ".dataframe > tbody > tr {\n",
       "  text-align: right;\n",
       "  white-space: pre-wrap;\n",
       "}\n",
       "</style>\n",
       "<small>shape: (1, 19)</small><table border=\"1\" class=\"dataframe\"><thead><tr><th>rate</th><th>valid_miles</th><th>transport_type</th><th>weight</th><th>pickup_date</th><th>origin_kma</th><th>destination_kma</th><th>month</th><th>weekday</th><th>week</th><th>year</th><th>date</th><th>is_holiday_next_week</th><th>is_holiday</th><th>weight_mile</th><th>weight_per_mile</th><th>kma_pair</th><th>kma_transport_median</th><th>shifted_week_rate</th></tr><tr><td>u32</td><td>u32</td><td>u32</td><td>u32</td><td>u32</td><td>u32</td><td>u32</td><td>u32</td><td>u32</td><td>u32</td><td>u32</td><td>u32</td><td>u32</td><td>u32</td><td>u32</td><td>u32</td><td>u32</td><td>u32</td><td>u32</td></tr></thead><tbody><tr><td>0</td><td>0</td><td>0</td><td>0</td><td>0</td><td>0</td><td>0</td><td>0</td><td>0</td><td>0</td><td>0</td><td>0</td><td>0</td><td>0</td><td>0</td><td>0</td><td>0</td><td>0</td><td>173</td></tr></tbody></table></div>"
      ],
      "text/plain": [
       "shape: (1, 19)\n",
       "┌──────┬─────────────┬─────────────┬────────┬───┬─────────────┬──────────┬────────────┬────────────┐\n",
       "│ rate ┆ valid_miles ┆ transport_t ┆ weight ┆ … ┆ weight_per_ ┆ kma_pair ┆ kma_transp ┆ shifted_we │\n",
       "│ ---  ┆ ---         ┆ ype         ┆ ---    ┆   ┆ mile        ┆ ---      ┆ ort_median ┆ ek_rate    │\n",
       "│ u32  ┆ u32         ┆ ---         ┆ u32    ┆   ┆ ---         ┆ u32      ┆ ---        ┆ ---        │\n",
       "│      ┆             ┆ u32         ┆        ┆   ┆ u32         ┆          ┆ u32        ┆ u32        │\n",
       "╞══════╪═════════════╪═════════════╪════════╪═══╪═════════════╪══════════╪════════════╪════════════╡\n",
       "│ 0    ┆ 0           ┆ 0           ┆ 0      ┆ … ┆ 0           ┆ 0        ┆ 0          ┆ 173        │\n",
       "└──────┴─────────────┴─────────────┴────────┴───┴─────────────┴──────────┴────────────┴────────────┘"
      ]
     },
     "execution_count": 38,
     "metadata": {},
     "output_type": "execute_result"
    }
   ],
   "source": [
    "transformed_eval_df.null_count()"
   ]
  },
  {
   "cell_type": "code",
   "execution_count": 39,
   "metadata": {},
   "outputs": [
    {
     "data": {
      "text/html": [
       "<div><style>\n",
       ".dataframe > thead > tr,\n",
       ".dataframe > tbody > tr {\n",
       "  text-align: right;\n",
       "  white-space: pre-wrap;\n",
       "}\n",
       "</style>\n",
       "<small>shape: (1, 19)</small><table border=\"1\" class=\"dataframe\"><thead><tr><th>rate</th><th>valid_miles</th><th>transport_type</th><th>weight</th><th>pickup_date</th><th>origin_kma</th><th>destination_kma</th><th>month</th><th>weekday</th><th>week</th><th>year</th><th>date</th><th>is_holiday_next_week</th><th>is_holiday</th><th>weight_mile</th><th>weight_per_mile</th><th>kma_pair</th><th>kma_transport_median</th><th>shifted_week_rate</th></tr><tr><td>u32</td><td>u32</td><td>u32</td><td>u32</td><td>u32</td><td>u32</td><td>u32</td><td>u32</td><td>u32</td><td>u32</td><td>u32</td><td>u32</td><td>u32</td><td>u32</td><td>u32</td><td>u32</td><td>u32</td><td>u32</td><td>u32</td></tr></thead><tbody><tr><td>0</td><td>0</td><td>0</td><td>0</td><td>0</td><td>0</td><td>0</td><td>0</td><td>0</td><td>0</td><td>0</td><td>0</td><td>0</td><td>0</td><td>0</td><td>0</td><td>0</td><td>0</td><td>180</td></tr></tbody></table></div>"
      ],
      "text/plain": [
       "shape: (1, 19)\n",
       "┌──────┬─────────────┬─────────────┬────────┬───┬─────────────┬──────────┬────────────┬────────────┐\n",
       "│ rate ┆ valid_miles ┆ transport_t ┆ weight ┆ … ┆ weight_per_ ┆ kma_pair ┆ kma_transp ┆ shifted_we │\n",
       "│ ---  ┆ ---         ┆ ype         ┆ ---    ┆   ┆ mile        ┆ ---      ┆ ort_median ┆ ek_rate    │\n",
       "│ u32  ┆ u32         ┆ ---         ┆ u32    ┆   ┆ ---         ┆ u32      ┆ ---        ┆ ---        │\n",
       "│      ┆             ┆ u32         ┆        ┆   ┆ u32         ┆          ┆ u32        ┆ u32        │\n",
       "╞══════╪═════════════╪═════════════╪════════╪═══╪═════════════╪══════════╪════════════╪════════════╡\n",
       "│ 0    ┆ 0           ┆ 0           ┆ 0      ┆ … ┆ 0           ┆ 0        ┆ 0          ┆ 180        │\n",
       "└──────┴─────────────┴─────────────┴────────┴───┴─────────────┴──────────┴────────────┴────────────┘"
      ]
     },
     "execution_count": 39,
     "metadata": {},
     "output_type": "execute_result"
    }
   ],
   "source": [
    "transformed_validation.null_count()"
   ]
  },
  {
   "cell_type": "markdown",
   "metadata": {},
   "source": [
    "### save dataframes"
   ]
  },
  {
   "cell_type": "code",
   "execution_count": 40,
   "metadata": {},
   "outputs": [],
   "source": [
    "path = os.path.join(\"../\", DATA_DIR, \"train_df.parquet\")\n",
    "transformed_train_df.write_parquet(path)\n",
    "\n",
    "path = os.path.join(\"../\", DATA_DIR, \"eval_df.parquet\")\n",
    "transformed_eval_df.write_parquet(path)\n",
    "\n",
    "path = os.path.join(\"../\", DATA_DIR, \"validation.parquet\")\n",
    "transformed_validation.write_parquet(path)\n",
    "\n",
    "path = os.path.join(\"../\", DATA_DIR, \"test.parquet\")\n",
    "transformed_test.write_parquet(path)"
   ]
  }
 ],
 "metadata": {
  "kernelspec": {
   "display_name": ".venv",
   "language": "python",
   "name": "python3"
  },
  "language_info": {
   "codemirror_mode": {
    "name": "ipython",
    "version": 3
   },
   "file_extension": ".py",
   "mimetype": "text/x-python",
   "name": "python",
   "nbconvert_exporter": "python",
   "pygments_lexer": "ipython3",
   "version": "3.12.7"
  }
 },
 "nbformat": 4,
 "nbformat_minor": 2
}
